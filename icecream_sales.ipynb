{
 "cells": [
  {
   "cell_type": "code",
   "execution_count": null,
   "id": "initial_id",
   "metadata": {
    "collapsed": true
   },
   "outputs": [],
   "source": "import numpy as np"
  },
  {
   "metadata": {},
   "cell_type": "code",
   "outputs": [],
   "execution_count": null,
   "source": [
    "from sklearn.preprocessing import PolynomialFeatures\n",
    "features = np.array([[32.92519127, 27.83917713],\n",
    "                     [27.11848509, 77.13174390],\n",
    "                     [13.11572466, 73.54715439],\n",
    "                     [14.94266746, 59.83553954],\n",
    "                     [26.60643383, 72.74404041],\n",
    "                     [32.28633520, 40.89511783],\n",
    "                     [38.40147704, 29.27157782],\n",
    "                     [35.32576878, 50.48961658],\n",
    "                     [33.87473740, 53.16308674],\n",
    "                     [12.58521539, 64.25175499]])\n",
    "\n",
    "target = np.array([ 175.81028952, 114.98247684, 113.13922922, 139.89057231, 152.51222144,\n",
    "                    165.20163529, 161.78325149, 153.59759730, 169.31041003, 142.59595240 ])\n",
    "\n",
    "# 多项式特征变换\n",
    "poly = PolynomialFeatures(degree=2, include_bias=False)\n",
    "features_poly = poly.fit_transform(features)"
   ],
   "id": "d64cb3d6d7835734"
  },
  {
   "metadata": {},
   "cell_type": "code",
   "outputs": [],
   "execution_count": null,
   "source": [
    "def z_score_normalization(x_features):\n",
    "    m_mean = np.mean(x_features, axis=0)\n",
    "    s_std = np.std(x_features, axis=0)\n",
    "    normalized_features = (x_features - m_mean) / s_std\n",
    "    return normalized_features"
   ],
   "id": "2d343377414d5c26"
  },
  {
   "metadata": {},
   "cell_type": "code",
   "outputs": [],
   "execution_count": null,
   "source": [
    "def compute_cost(x, y, w, b, l):\n",
    "    predictions = np.dot(x, w) + b\n",
    "    errors = predictions - y\n",
    "    cost_result = np.mean(errors ** 2) / 2\n",
    "    regularization_cost = (l / (2 * len(y))) * np.sum(np.square(w))\n",
    "    return cost_result + regularization_cost"
   ],
   "id": "f169674dbd938ef4"
  },
  {
   "metadata": {},
   "cell_type": "code",
   "outputs": [],
   "execution_count": null,
   "source": [
    "def gradient_descent(x, y, w, b, lr, ni, l):\n",
    "    m = len(y)\n",
    "    cost_history = []\n",
    "\n",
    "    for iteration in range(ni):\n",
    "        # 计算预测值\n",
    "        predictions = np.dot(x, w) + b\n",
    "\n",
    "        # 计算误差\n",
    "        errors = predictions - y\n",
    "\n",
    "        # 计算梯度\n",
    "        dw = np.dot(x.T, errors) / m\n",
    "        db = np.sum(errors) / m\n",
    "\n",
    "        # 计算正则化梯度\n",
    "        dw_reg = dw + (l / m) * w\n",
    "\n",
    "        # 更新参数\n",
    "        w -= lr * dw_reg\n",
    "        b -= lr * db\n",
    "\n",
    "        # 计算和记录成本\n",
    "        cost = compute_cost(x, y, w, b, l)\n",
    "        cost_history.append(cost)\n",
    "\n",
    "        # 输出调试信息\n",
    "        if iteration % 1000 == 0:\n",
    "            print(f\"Iteration {iteration}: Cost {cost:.2f}, \"\n",
    "                  f\"w {[f'{val:.2f}' for val in w]}, b {b:.2f}\")\n",
    "\n",
    "    return w, b, cost_history"
   ],
   "id": "76f893fc579fe46e"
  }
 ],
 "metadata": {
  "kernelspec": {
   "display_name": "Python 3",
   "language": "python",
   "name": "python3"
  },
  "language_info": {
   "codemirror_mode": {
    "name": "ipython",
    "version": 2
   },
   "file_extension": ".py",
   "mimetype": "text/x-python",
   "name": "python",
   "nbconvert_exporter": "python",
   "pygments_lexer": "ipython2",
   "version": "2.7.6"
  }
 },
 "nbformat": 4,
 "nbformat_minor": 5
}
