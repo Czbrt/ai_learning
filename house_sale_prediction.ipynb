{
 "cells": [
  {
   "cell_type": "code",
   "id": "initial_id",
   "metadata": {
    "collapsed": true,
    "ExecuteTime": {
     "end_time": "2024-08-12T03:24:24.308843Z",
     "start_time": "2024-08-12T03:24:24.303377Z"
    }
   },
   "source": "import numpy as np",
   "outputs": [],
   "execution_count": 45
  },
  {
   "metadata": {
    "ExecuteTime": {
     "end_time": "2024-08-12T03:24:24.314748Z",
     "start_time": "2024-08-12T03:24:24.311467Z"
    }
   },
   "cell_type": "code",
   "source": [
    "# 数据集\n",
    "data = np.array([\n",
    "    [152, 451.15],\n",
    "    [142, 425.88],\n",
    "    [64, 191.17],\n",
    "    [156, 473.64],\n",
    "    [121, 369.33],\n",
    "    [70, 215.18],\n",
    "    [152, 474.62],\n",
    "    [171, 532.39],\n",
    "    [124, 351.61],\n",
    "    [137, 421.03]\n",
    "])\n",
    "\n",
    "# 特征和标签\n",
    "features = data[:, 0]  # 房间数量\n",
    "target = data[:, 1]  # 房价"
   ],
   "id": "74d7172d1d73375b",
   "outputs": [],
   "execution_count": 46
  },
  {
   "metadata": {
    "ExecuteTime": {
     "end_time": "2024-08-12T03:24:24.318616Z",
     "start_time": "2024-08-12T03:24:24.316193Z"
    }
   },
   "cell_type": "code",
   "source": [
    "def compute_cost(x, y, w, b):\n",
    "    predictions = w * x + b\n",
    "    errors = predictions - y\n",
    "    cost_result = np.mean(errors ** 2) / 2\n",
    "    return cost_result"
   ],
   "id": "908136bea43c6024",
   "outputs": [],
   "execution_count": 47
  },
  {
   "metadata": {
    "ExecuteTime": {
     "end_time": "2024-08-12T03:24:24.322071Z",
     "start_time": "2024-08-12T03:24:24.319481Z"
    }
   },
   "cell_type": "code",
   "source": [
    "# 初始化参数\n",
    "weight = 0.0\n",
    "bias = 0.0\n",
    "\n",
    "# 计算成本\n",
    "cost = compute_cost(features, target, weight, bias)\n",
    "print(f\"Initial cost: {cost:.2f}\")"
   ],
   "id": "d252a687427bbd63",
   "outputs": [
    {
     "name": "stdout",
     "output_type": "stream",
     "text": [
      "Initial cost: 81904.86\n"
     ]
    }
   ],
   "execution_count": 48
  },
  {
   "metadata": {
    "ExecuteTime": {
     "end_time": "2024-08-12T03:24:24.335975Z",
     "start_time": "2024-08-12T03:24:24.322943Z"
    }
   },
   "cell_type": "code",
   "source": [
    "def gradient_descent(x, y, w, b, lr, ni):\n",
    "    m = len(x)\n",
    "    for iteration in range(ni):\n",
    "        # 计算预测值\n",
    "        predictions = w * x + b\n",
    "\n",
    "        # 计算误差\n",
    "        errors = predictions - y\n",
    "\n",
    "        # 计算梯度\n",
    "        dw = np.dot(errors, x) / m\n",
    "        db = np.sum(errors) / m\n",
    "\n",
    "        # 更新参数\n",
    "        w -= lr * dw\n",
    "        b -= lr * db\n",
    "\n",
    "        # 输出调试信息\n",
    "        if iteration % 100 == 0:\n",
    "            c = compute_cost(x, y, w, b)\n",
    "            print(f\"Iteration {iteration}: Cost {c:.2f}, w {w:.2f}, b {b:.2f}\")\n",
    "\n",
    "    return w, b\n",
    "\n",
    "# 超参数\n",
    "learning_rate = 0.0001\n",
    "num_iterations = 1000\n",
    "\n",
    "# 执行梯度下降\n",
    "weight, bias = gradient_descent(features, target, weight, bias, learning_rate, num_iterations)\n",
    "print(f\"Optimized w: {weight:.2f}\")\n",
    "print(f\"Optimized b: {bias:.2f}\")\n",
    "\n",
    "# 计算优化后的成本\n",
    "optimized_cost = compute_cost(features, target, weight, bias)\n",
    "print(f\"Optimized cost: {optimized_cost:.2f}\")"
   ],
   "id": "eee4f290f00ddb2",
   "outputs": [
    {
     "name": "stdout",
     "output_type": "stream",
     "text": [
      "Iteration 0: Cost 49522.38, w 5.39, b 0.04\n",
      "Iteration 100: Cost 57.32, w 3.03, b 0.02\n",
      "Iteration 200: Cost 57.32, w 3.03, b 0.01\n",
      "Iteration 300: Cost 57.31, w 3.03, b 0.00\n",
      "Iteration 400: Cost 57.31, w 3.03, b -0.00\n",
      "Iteration 500: Cost 57.31, w 3.03, b -0.01\n",
      "Iteration 600: Cost 57.30, w 3.03, b -0.01\n",
      "Iteration 700: Cost 57.30, w 3.03, b -0.02\n",
      "Iteration 800: Cost 57.29, w 3.04, b -0.03\n",
      "Iteration 900: Cost 57.29, w 3.04, b -0.03\n",
      "Optimized w: 3.04\n",
      "Optimized b: -0.04\n",
      "Optimized cost: 57.29\n"
     ]
    }
   ],
   "execution_count": 49
  },
  {
   "metadata": {
    "ExecuteTime": {
     "end_time": "2024-08-12T03:24:24.429086Z",
     "start_time": "2024-08-12T03:24:24.337693Z"
    }
   },
   "cell_type": "code",
   "source": [
    "import matplotlib.pyplot as plt\n",
    "\n",
    "# 绘制数据点\n",
    "plt.scatter(features, target, color='blue', label='Data')\n",
    "\n",
    "# 绘制拟合线\n",
    "plt.plot(features, weight * features + bias, color='red', label='Fit Line')\n",
    "\n",
    "plt.xlabel('Number of Rooms')\n",
    "plt.ylabel('Price')\n",
    "plt.legend()\n",
    "plt.show()"
   ],
   "id": "e3b0ca8e84db9ae6",
   "outputs": [
    {
     "data": {
      "text/plain": [
       "<Figure size 640x480 with 1 Axes>"
      ],
      "image/png": "[encoded data removed]"
     },
     "metadata": {},
     "output_type": "display_data"
    }
   ],
   "execution_count": 50
  }
 ],
 "metadata": {
  "kernelspec": {
   "display_name": "Python 3",
   "language": "python",
   "name": "python3"
  },
  "language_info": {
   "codemirror_mode": {
    "name": "ipython",
    "version": 2
   },
   "file_extension": ".py",
   "mimetype": "text/x-python",
   "name": "python",
   "nbconvert_exporter": "python",
   "pygments_lexer": "ipython2",
   "version": "2.7.6"
  }
 },
 "nbformat": 4,
 "nbformat_minor": 5
}
