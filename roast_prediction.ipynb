{
 "cells": [
  {
   "cell_type": "code",
   "id": "initial_id",
   "metadata": {
    "collapsed": true,
    "ExecuteTime": {
     "end_time": "2024-08-23T09:31:43.314986Z",
     "start_time": "2024-08-23T09:31:43.311262Z"
    }
   },
   "source": [
    "import numpy as np\n",
    "import ml_func as mlf\n",
    "import neuro_network as nn"
   ],
   "outputs": [],
   "execution_count": 13
  },
  {
   "metadata": {
    "ExecuteTime": {
     "end_time": "2024-08-23T09:31:43.325673Z",
     "start_time": "2024-08-23T09:31:43.321603Z"
    }
   },
   "cell_type": "code",
   "source": [
    "model = nn.Model()\n",
    "\n",
    "# 添加层\n",
    "model.add(nn.Dense(units=5, activation='relu'))  # 隐藏层，5个神经元，ReLU激活\n",
    "model.add(nn.Dense(units=3, activation='tanh'))  # 隐藏层，3个神经元，Tanh激活\n",
    "model.add(nn.Dense(units=1, activation='sigmoid'))  # 输出层，1个神经元，Sigmoid激活\n",
    "\n",
    "# 初始化模型参数\n",
    "input_dim = 4  # 假设输入特征数为4\n",
    "model.initialize(input_dim)\n",
    "\n",
    "# 创建示例输入数据\n",
    "X = np.array([[0.1, 0.2, 0.3, 0.4],\n",
    "              [0.5, 0.6, 0.7, 0.8]])\n",
    "\n",
    "# 前向传播\n",
    "output = model.forward(X)\n",
    "print(\"Model output:\\n\", output)"
   ],
   "id": "6d0b36a3e4e3d4d3",
   "outputs": [
    {
     "name": "stdout",
     "output_type": "stream",
     "text": [
      "Model output:\n",
      " [[0.502466  ]\n",
      " [0.50457765]]\n"
     ]
    }
   ],
   "execution_count": 14
  },
  {
   "metadata": {
    "ExecuteTime": {
     "end_time": "2024-08-23T09:31:43.331033Z",
     "start_time": "2024-08-23T09:31:43.327117Z"
    }
   },
   "cell_type": "code",
   "source": [
    "# 生成温度和时间的特征矩阵 (10组数据)\n",
    "features = np.array([\n",
    "    [180, 15],  # 成功\n",
    "    [200, 10],  # 成功\n",
    "    [220,  8],   # 成功\n",
    "    [250,  5],   # 失败（温度过高）\n",
    "    [160, 25],  # 成功\n",
    "    [230,  7],   # 失败（温度过高）\n",
    "    [170, 20],  # 成功\n",
    "    [210, 12],  # 成功\n",
    "    [240,  6],   # 失败（温度过高）\n",
    "    [150, 30],  # 失败（温度不够）\n",
    "    \n",
    "    [300, 10],  # 失败（温度极高）\n",
    "    [140, 35],  # 失败（温度不够）\n",
    "    [190, 18],  # 成功\n",
    "    [260,  4],  # 失败（温度过高）\n",
    "    [175, 22],  # 成功\n",
    "    [280,  9],  # 失败（温度极高）\n",
    "    [155, 27],  # 成功\n",
    "    [270,  6],  # 失败（温度极高）\n",
    "    [165, 23],  # 成功\n",
    "    [130, 15],  # 失败（温度不够）\n",
    "    \n",
    "    [100,  9],  # 失败（温度不够）\n",
    "    [180, 12],  # 成功\n",
    "    [150,  10],  # 失败\n",
    "    [170, 23],  # 成功\n",
    "    [180, 45],  # 失败（时间过长）\n",
    "    [110,  10],  # 失败（温度不够）\n",
    "    [170, 30],  # 失败\n",
    "    [115,  10],  # 失败\n",
    "    [200, 24],  # 失败\n",
    "    [125, 18],  # 失败\n",
    "])\n",
    "\n",
    "features_normal = mlf.z_score_normalization(features)\n",
    "\n",
    "# 生成相应的目标值数组 (1表示成功，0表示失败)\n",
    "target = np.array([[1], [1], [1], [0], [1], [0], [1], [1], [0], [0],\n",
    "                   [0], [0], [1], [0], [1], [0], [1], [0], [1], [0],\n",
    "                   [0], [1], [0], [1], [0], [0], [0], [0], [0], [0]\n",
    "                   ])"
   ],
   "id": "7a6a565185d9a0f0",
   "outputs": [],
   "execution_count": 15
  },
  {
   "metadata": {
    "ExecuteTime": {
     "end_time": "2024-08-23T09:31:43.411298Z",
     "start_time": "2024-08-23T09:31:43.332046Z"
    }
   },
   "cell_type": "code",
   "source": [
    "toast_model = nn.Model()\n",
    "\n",
    "toast_model.add(nn.Dense(units=20, activation='relu'))\n",
    "toast_model.add(nn.Dense(units=10, activation='relu'))\n",
    "toast_model.add(nn.Dense(units=10, activation='relu'))\n",
    "toast_model.add(nn.Dense(units=1, activation='sigmoid'))\n",
    "\n",
    "# 初始化模型参数\n",
    "input_dim = 2  # 输入特征数为2\n",
    "toast_model.initialize(input_dim)\n",
    "\n",
    "toast_model.fit(features_normal, target, 1000, 0.001)\n",
    "\n",
    "test = np.array([\n",
    "    [200, 15],\n",
    "    [220, 30],\n",
    "    [1000, 100],\n",
    "    [  0,  0],\n",
    "])\n",
    "\n",
    "test_normal = mlf.z_score_normalization(test)\n",
    "\n",
    "output = toast_model.forward(test_normal)\n",
    "formatted_output = [[f\"{x:.2f}\" for x in row] for row in output]\n",
    "print(formatted_output)"
   ],
   "id": "8c4bfc1c5fb0f82e",
   "outputs": [
    {
     "name": "stdout",
     "output_type": "stream",
     "text": [
      "Epoch 1/1000, Loss: 0.70\n",
      "Epoch 101/1000, Loss: 0.35\n",
      "Epoch 201/1000, Loss: 0.23\n",
      "Epoch 301/1000, Loss: 0.14\n",
      "Epoch 401/1000, Loss: 0.09\n",
      "Epoch 501/1000, Loss: 0.06\n",
      "Epoch 601/1000, Loss: 0.04\n",
      "Epoch 701/1000, Loss: 0.04\n",
      "Epoch 801/1000, Loss: 0.03\n",
      "Epoch 901/1000, Loss: 0.02\n",
      "[['0.56'], ['0.95'], ['0.00'], ['0.00']]\n"
     ]
    }
   ],
   "execution_count": 16
  },
  {
   "metadata": {
    "ExecuteTime": {
     "end_time": "2024-08-23T09:31:43.414516Z",
     "start_time": "2024-08-23T09:31:43.412991Z"
    }
   },
   "cell_type": "code",
   "source": "",
   "id": "6a14b05725cbb343",
   "outputs": [],
   "execution_count": 16
  }
 ],
 "metadata": {
  "kernelspec": {
   "display_name": "Python 3",
   "language": "python",
   "name": "python3"
  },
  "language_info": {
   "codemirror_mode": {
    "name": "ipython",
    "version": 2
   },
   "file_extension": ".py",
   "mimetype": "text/x-python",
   "name": "python",
   "nbconvert_exporter": "python",
   "pygments_lexer": "ipython2",
   "version": "2.7.6"
  }
 },
 "nbformat": 4,
 "nbformat_minor": 5
}
