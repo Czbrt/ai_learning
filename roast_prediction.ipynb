{
 "cells": [
  {
   "cell_type": "code",
   "id": "initial_id",
   "metadata": {
    "collapsed": true,
    "ExecuteTime": {
     "end_time": "2024-08-21T07:41:38.459246Z",
     "start_time": "2024-08-21T07:41:38.456194Z"
    }
   },
   "source": [
    "import numpy as np\n",
    "import ml_func as mlf\n",
    "import neuro_network as nn"
   ],
   "outputs": [],
   "execution_count": 7
  },
  {
   "metadata": {
    "ExecuteTime": {
     "end_time": "2024-08-21T07:41:38.464591Z",
     "start_time": "2024-08-21T07:41:38.461311Z"
    }
   },
   "cell_type": "code",
   "source": [
    "# 生成温度和时间的特征矩阵 (10组数据)\n",
    "features = np.array([\n",
    "    [180, 15],  # 成功\n",
    "    [200, 10],  # 成功\n",
    "    [220,  8],   # 成功\n",
    "    [250,  5],   # 失败（温度过高）\n",
    "    [160, 25],  # 成功\n",
    "    [230,  7],   # 失败（温度过高）\n",
    "    [170, 20],  # 成功\n",
    "    [210, 12],  # 成功\n",
    "    [240,  6],   # 失败（温度过高）\n",
    "    [150, 30],  # 失败（温度不够）\n",
    "])\n",
    "\n",
    "features_normal = mlf.z_score_normalization(features)\n",
    "\n",
    "# 生成相应的目标值数组 (1表示成功，0表示失败)\n",
    "target = np.array([1, 1, 1, 0, 1, 0, 1, 1, 0, 0])"
   ],
   "id": "7a6a565185d9a0f0",
   "outputs": [],
   "execution_count": 8
  },
  {
   "metadata": {
    "ExecuteTime": {
     "end_time": "2024-08-21T07:41:38.469068Z",
     "start_time": "2024-08-21T07:41:38.465568Z"
    }
   },
   "cell_type": "code",
   "source": [
    "model = nn.Model()\n",
    "\n",
    "# 添加层\n",
    "model.add(nn.Dense(units=5, activation='relu'))  # 隐藏层，5个神经元，ReLU激活\n",
    "model.add(nn.Dense(units=3, activation='tanh'))  # 隐藏层，3个神经元，Tanh激活\n",
    "model.add(nn.Dense(units=1, activation='sigmoid'))  # 输出层，1个神经元，Sigmoid激活\n",
    "\n",
    "# 初始化模型参数\n",
    "input_dim = 4  # 假设输入特征数为4\n",
    "model.initialize(input_dim)\n",
    "\n",
    "# 创建示例输入数据\n",
    "X = np.array([[0.1, 0.2, 0.3, 0.4],\n",
    "              [0.5, 0.6, 0.7, 0.8]])\n",
    "\n",
    "# 前向传播\n",
    "output = model.forward(X)\n",
    "print(\"Model output:\\n\", output)"
   ],
   "id": "6d0b36a3e4e3d4d3",
   "outputs": [
    {
     "name": "stdout",
     "output_type": "stream",
     "text": [
      "Model output:\n",
      " [[0.49999919]\n",
      " [0.49999817]]\n"
     ]
    }
   ],
   "execution_count": 9
  },
  {
   "metadata": {
    "ExecuteTime": {
     "end_time": "2024-08-21T07:41:38.471805Z",
     "start_time": "2024-08-21T07:41:38.470271Z"
    }
   },
   "cell_type": "code",
   "source": "",
   "id": "8c4bfc1c5fb0f82e",
   "outputs": [],
   "execution_count": 9
  }
 ],
 "metadata": {
  "kernelspec": {
   "display_name": "Python 3",
   "language": "python",
   "name": "python3"
  },
  "language_info": {
   "codemirror_mode": {
    "name": "ipython",
    "version": 2
   },
   "file_extension": ".py",
   "mimetype": "text/x-python",
   "name": "python",
   "nbconvert_exporter": "python",
   "pygments_lexer": "ipython2",
   "version": "2.7.6"
  }
 },
 "nbformat": 4,
 "nbformat_minor": 5
}
